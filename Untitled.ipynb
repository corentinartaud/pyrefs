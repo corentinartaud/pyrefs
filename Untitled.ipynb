{
 "cells": [
  {
   "cell_type": "code",
   "execution_count": 1,
   "id": "b719c0ac-ca85-472a-a753-b8a6fa8576b6",
   "metadata": {},
   "outputs": [],
   "source": [
    "# from rich import print\n",
    "from parser import load, cite\n",
    "filepath = \"./example.ris\"\n",
    "with open(filepath, \"r\") as file:\n",
    "  apa = cite(load(file))\n",
    "\n",
    "with open(\"examples.txt\", \"w\") as outfile:\n",
    "  outfile.write(apa)"
   ]
  },
  {
   "cell_type": "code",
   "execution_count": 21,
   "id": "30333d83-2e92-4d7c-9a6b-8a10201c9e98",
   "metadata": {},
   "outputs": [],
   "source": [
    "# Merge all the undefined-2024-10-25 ris files into one example.ris file\n",
    "filepath = \"./undefined-2024-10-25.ris\"\n",
    "output, counter = \"\", 0\n",
    "for i in range(3):\n",
    "  fp = filepath[:-4] + f\" ({i})\" + filepath[-4:] if i > 0 else filepath\n",
    "  with open(fp, \"r\") as file:\n",
    "    for line in file.readlines():\n",
    "      digit = line.split(\".\")[0]\n",
    "      if digit.isdigit(): \n",
    "        counter = counter + 1 \n",
    "        line = f\"{counter}.\\n\"\n",
    "      output += line\n",
    "  output += \"\\n\" # Add a new line after each new merged file\n",
    "\n",
    "with open(\"example.ris\", \"w\") as file:\n",
    "  file.write(output)"
   ]
  },
  {
   "cell_type": "code",
   "execution_count": null,
   "id": "1b101179-5d2a-4070-938b-a428c7f6feef",
   "metadata": {},
   "outputs": [],
   "source": []
  }
 ],
 "metadata": {
  "kernelspec": {
   "display_name": "Python 3 (ipykernel)",
   "language": "python",
   "name": "python3"
  },
  "language_info": {
   "codemirror_mode": {
    "name": "ipython",
    "version": 3
   },
   "file_extension": ".py",
   "mimetype": "text/x-python",
   "name": "python",
   "nbconvert_exporter": "python",
   "pygments_lexer": "ipython3",
   "version": "3.11.9"
  }
 },
 "nbformat": 4,
 "nbformat_minor": 5
}
